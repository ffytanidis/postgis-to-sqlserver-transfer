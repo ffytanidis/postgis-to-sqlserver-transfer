{
 "cells": [
  {
   "cell_type": "code",
   "execution_count": 1,
   "id": "a2856f88-cbce-462b-bce7-c15aa75857b5",
   "metadata": {},
   "outputs": [
    {
     "data": {
      "text/plain": [
       "True"
      ]
     },
     "execution_count": 1,
     "metadata": {},
     "output_type": "execute_result"
    }
   ],
   "source": [
    "from sqlalchemy import create_engine\n",
    "import pyodbc\n",
    "import os\n",
    "from urllib.parse import quote_plus\n",
    "from dotenv import load_dotenv\n",
    "import geopandas as gpd, pandas as pd\n",
    "import numpy as np\n",
    "import warnings\n",
    "warnings.filterwarnings('ignore')\n",
    "# Load environment variables from .env\n",
    "load_dotenv()"
   ]
  },
  {
   "cell_type": "markdown",
   "id": "b4eef743-4cec-4146-95a1-ed098934e239",
   "metadata": {},
   "source": [
    "# Read"
   ]
  },
  {
   "cell_type": "code",
   "execution_count": 2,
   "id": "da54a225-8b37-461d-b17e-7c284ec1fd03",
   "metadata": {},
   "outputs": [],
   "source": [
    "# --- Config ---\n",
    "pg_config = {\n",
    "    'username': 'analyst_ddl',\n",
    "    'password': quote_plus(os.getenv('PG_PASSWORD')),\n",
    "    'host': 'maritime-assets-db1-dev-geospatial.cluster-cinsmmsxwkgg.eu-west-1.rds.amazonaws.com',\n",
    "    'port': 5432,\n",
    "    'database': 'maritime_assets'\n",
    "}\n",
    "\n",
    "# --- Create PostgreSQL engine ---\n",
    "pg_url = (\n",
    "    f\"postgresql://{pg_config['username']}:{pg_config['password']}@\"\n",
    "    f\"{pg_config['host']}:{pg_config['port']}/{pg_config['database']}\"\n",
    ")\n",
    "pg_engine = create_engine(pg_url)"
   ]
  },
  {
   "cell_type": "code",
   "execution_count": 3,
   "id": "e7886fda-5ccf-4251-b6f6-b6f3247fc5dc",
   "metadata": {},
   "outputs": [],
   "source": [
    "# PG\n",
    "q = f\"\"\"\n",
    "select \tp.zone_id, \n",
    "\t\tp.mt_id as matched_mt_port_id, \n",
    "\t\tp.name as pg_name, \n",
    "\t\tp.zone_type as pg_zone_type, \n",
    "\t\tz.parent_zone_id,\n",
    "\t\tp.country_code as pg_country_code, \n",
    "\t    ap.primary_related_zone_anch_id AS pg_related_zone_anch_id,\n",
    "\t    ap.primary_related_zone_port_id AS pg_related_zone_port_id,\n",
    "\t    coalesce(ec.terminal_count, 0) as pg_terminal_count, \n",
    "\t    coalesce(ec.berth_count, 0) as pg_berth_count, \n",
    "\t    coalesce(ec.berths_with_terminal_count, 0) as pg_berths_with_terminal_count, \n",
    "        coalesce(ps.stopped_sum, 0) as pg_stopped_unique_vessels_port,\n",
    "        coalesce(bs.stopped_sum_berths, 0) as pg_stopped_unique_vessels_berths,\n",
    "        p.polygon_geom as geometry\n",
    "from sandbox.mview_master_ports p\n",
    "left join ( --unique vessels stopped at port\n",
    "    select p2.zone_id, sum(svp.mmsi_total) as stopped_sum\n",
    "    from sandbox.mview_master_ports p2\n",
    "    join sandbox.svp_hex_res10_2023_2024 svp\n",
    "      on st_intersects(svp.geom, p2.polygon_geom)\n",
    "    group by p2.zone_id\n",
    ") ps on ps.zone_id = p.zone_id\n",
    "left join ( --unique vessels stopped at port's berths\n",
    "    select d.port_id as zone_id, sum(d.mmsi_total) as stopped_sum_berths\n",
    "    from (\n",
    "        select distinct b.port_id, svp.hex_id, svp.mmsi_total -- one row per (port, hex)\n",
    "        from sandbox.mview_master_berths b\n",
    "        join sandbox.svp_hex_res10_2023_2024 svp\n",
    "          on st_intersects(svp.geom, b.polygon_geom)\n",
    "    ) d\n",
    "    group by d.port_id\n",
    ") bs on bs.zone_id = p.zone_id\n",
    "left join sandbox.v_port_anchorage_primary ap on ap.zone_id = p.zone_id --primary related anch/port\n",
    "left join geospatial.zones z on z.zone_id = p.zone_id -- for parent_zone_id\n",
    "left join ( --terminal, berths, berths with terminal counts\n",
    "\tselect \n",
    "\t\tb.port_id as zone_id, \n",
    "\t\tcount(distinct(b.terminal_id)) as terminal_count, \n",
    "\t\tcount(*) as berth_count, \n",
    "\t\tcount(*) filter (where b.terminal_id is not null) as berths_with_terminal_count\n",
    "\tfrom sandbox.mview_master_berths b\n",
    "\tgroup by b.port_id\n",
    ") ec on ec.zone_id = p.zone_id\n",
    "\"\"\"\n",
    "gdf_pg = gpd.read_postgis(\n",
    "    sql=q,\n",
    "    con=pg_engine,\n",
    "    geom_col='geometry'\n",
    ")"
   ]
  },
  {
   "cell_type": "code",
   "execution_count": 4,
   "id": "61f87526-dbda-4192-b907-0843652025b0",
   "metadata": {},
   "outputs": [],
   "source": [
    "# MT\n",
    "q = f\"\"\"\n",
    "select \n",
    "\tp.\"PORT_ID\" as mt_port_id, \n",
    "\tp.\"PORT_NAME\" as mt_port_name,\n",
    "\tp.\"PORT_TYPE\" as mt_port_type,\n",
    "\tp.\"ENABLE_CALLS\" as mt_enable_calls,\n",
    "    coalesce(ec.mt_terminal_count, 0) as mt_terminal_count, \n",
    "    coalesce(ec.mt_berth_count, 0) as mt_berth_count, \n",
    "    coalesce(ec.mt_berths_with_terminal_count, 0) as mt_berths_with_terminal_count, \n",
    "    coalesce(ec.mt_berths_not_matched, 0) as mt_berths_not_matched,\n",
    "\tp.geometry \n",
    "from sandbox.\"MT_Ports\" p \n",
    "left join (\n",
    "\tselect \n",
    "\t\tb.\"PORT_ID\" as mt_port_id,\n",
    "\t\tcount(distinct(b.\"TERMINAL_ID\")) as mt_terminal_count, \n",
    "\t\tcount(*) as mt_berth_count, \n",
    "\t\tcount(*) filter (where b.\"TERMINAL_ID\" is not null) as mt_berths_with_terminal_count,\n",
    "\t\tcount(nm.not_matched) as mt_berths_not_matched\n",
    "\tfrom sandbox.\"MT_Berths\" b\n",
    "\tleft join (\n",
    "\t\tselect mt_id as berth_id, 1 as not_matched\n",
    "\t\tfrom sandbox.mt_matching_not_matched nm \n",
    "\t\twhere nm.mt_type = 'berth'\n",
    "\t) nm on nm.berth_id = b.\"BERTH_ID\" \n",
    "\tgroup by b.\"PORT_ID\"\n",
    ") ec on p.\"PORT_ID\" = ec.mt_port_id\n",
    "where p.\"MOVING_SHIP_ID\" is null\n",
    "\"\"\"\n",
    "gdf_mt = gpd.read_postgis(\n",
    "    sql=q,\n",
    "    con=pg_engine,\n",
    "    geom_col='geometry'\n",
    ")"
   ]
  },
  {
   "cell_type": "code",
   "execution_count": 5,
   "id": "4193611f-c08e-465d-9bb0-ee09f67c0e7c",
   "metadata": {},
   "outputs": [],
   "source": [
    "# dbprim03 logs\n",
    "q = f\"\"\"\n",
    "select \n",
    "\tzone_id, \n",
    "\tmt_id as dbprim03_port_id,\n",
    "\tconcat('https://mtapp-pr1661-uat.marinetraffic.xyz/en/ais/details/ports/',mt_id) as dbprim03_link,\n",
    "\tdate(mtl.\"timestamp\") as dbprim03_date, \n",
    "\tmtl.\"statement\" as dbprim03_statement\n",
    "from sandbox.mt_transfer_log mtl \n",
    "where mt_table = 'ports'\n",
    "and mtl.target_instance = 'dbprim03'\n",
    "\"\"\"\n",
    "df_log_dbprim03 = pd.read_sql(\n",
    "    sql=q,\n",
    "    con=pg_engine\n",
    ")"
   ]
  },
  {
   "cell_type": "code",
   "execution_count": 6,
   "id": "f38a7802-782e-4c93-ae12-a443429d6248",
   "metadata": {},
   "outputs": [],
   "source": [
    "# Prod logs\n",
    "q = f\"\"\"\n",
    "select \n",
    "\tzone_id, \n",
    "\tmt_id as prod_port_id,\n",
    "\tconcat('https://www.marinetraffic.com/en/ais/details/ports/',mt_id) as prod_link,\n",
    "\tdate(mtl.\"timestamp\") as prod_date, \n",
    "\tmtl.\"statement\" as prod_statement\n",
    "from sandbox.mt_transfer_log mtl \n",
    "where mt_table = 'ports'\n",
    "and mtl.target_instance = 'dbprim'\n",
    "\"\"\"\n",
    "df_log_prod = pd.read_sql(\n",
    "    sql=q,\n",
    "    con=pg_engine\n",
    ")"
   ]
  },
  {
   "cell_type": "markdown",
   "id": "9dae47e0-ec89-40e7-a9b1-f9a26efedb95",
   "metadata": {},
   "source": [
    "# Fix"
   ]
  },
  {
   "cell_type": "code",
   "execution_count": 7,
   "id": "d3ebf6cc-5f4f-4b10-b600-45674fc82894",
   "metadata": {},
   "outputs": [],
   "source": [
    "# fix dtypes \n",
    "df_log_dbprim03['zone_id'] = df_log_dbprim03['zone_id'].astype('Int64')\n",
    "df_log_dbprim03['dbprim03_port_id'] = df_log_dbprim03['dbprim03_port_id'].astype('Int64')\n",
    "\n",
    "df_log_prod['zone_id'] = df_log_prod['zone_id'].astype('Int64')\n",
    "df_log_prod['prod_port_id'] = df_log_prod['prod_port_id'].astype('Int64')\n",
    "\n",
    "gdf_pg['matched_mt_port_id'] = gdf_pg['matched_mt_port_id'].astype('Int64')\n",
    "gdf_pg['zone_id'] = gdf_pg['zone_id'].astype('Int64')\n",
    "\n",
    "gdf_mt['mt_port_id'] = gdf_mt['mt_port_id'].astype('Int64')"
   ]
  },
  {
   "cell_type": "code",
   "execution_count": 8,
   "id": "325078d2-e62d-48cb-8f45-869cf83bfd02",
   "metadata": {},
   "outputs": [],
   "source": [
    "# add matched zone_id in mt ports \n",
    "gdf_mt = gdf_mt.merge(gdf_pg[['matched_mt_port_id','zone_id']].rename(columns={'matched_mt_port_id':'mt_port_id', 'zone_id':'matched_zone_id'}), on='mt_port_id', how='left')"
   ]
  },
  {
   "cell_type": "markdown",
   "id": "60abb05a-ee30-4f92-9d21-4d870580a354",
   "metadata": {},
   "source": [
    "# Merge"
   ]
  },
  {
   "cell_type": "code",
   "execution_count": 9,
   "id": "fc196339-dae9-4b68-8673-655f0e892929",
   "metadata": {},
   "outputs": [],
   "source": [
    "# Initial Merge\n",
    "merged_df = gdf_pg.merge(gdf_mt.rename(columns={'mt_port_id':'matched_mt_port_id'}), on='matched_mt_port_id', how='left').copy()\n",
    "merged_df = merged_df.merge(df_log_dbprim03, on='zone_id', how='left')\n",
    "merged_df = merged_df.merge(df_log_prod, on='zone_id', how='left')"
   ]
  },
  {
   "cell_type": "code",
   "execution_count": 10,
   "id": "349a9d2a-4b1b-4ecc-a397-f675c4a2aaf2",
   "metadata": {},
   "outputs": [],
   "source": [
    "# union of within / contains / overlaps (all area intersections, no boundary-only touches)\n",
    "dfs = []\n",
    "for pred in [\"within\", \"contains\", \"overlaps\"]:\n",
    "    tmp = gpd.sjoin(\n",
    "        gdf_pg[[\"zone_id\", \"matched_mt_port_id\", \"geometry\"]],\n",
    "        gdf_mt[[\"mt_port_id\", \"matched_zone_id\", \"mt_enable_calls\", \"geometry\"]],\n",
    "        how=\"inner\",\n",
    "        predicate=pred\n",
    "    )[[\"zone_id\", \"matched_mt_port_id\", \"mt_port_id\", \"matched_zone_id\", \"mt_enable_calls\"]]\n",
    "    dfs.append(tmp)\n",
    "\n",
    "area_intersections = pd.concat(dfs, ignore_index=True).drop_duplicates()"
   ]
  },
  {
   "cell_type": "code",
   "execution_count": 11,
   "id": "ad2502c2-0c3b-479c-8c01-2c33bc1bbd17",
   "metadata": {},
   "outputs": [],
   "source": [
    "# add list of matched zone_ids of intersecting ports, matched excluded\n",
    "\n",
    "filtered_intersections = area_intersections[area_intersections['matched_mt_port_id']!=area_intersections['mt_port_id']]\n",
    "\n",
    "# aggregate matched_zone_id per zone_id into unique, sorted lists\n",
    "df_intersections = (\n",
    "    filtered_intersections.groupby(\"zone_id\", as_index=False)\n",
    "        .agg(zone_ids_of_intersecting_mt_ports=(\"matched_zone_id\", lambda s: sorted({int(x) for x in s.dropna()})))  # unique ints\n",
    ")\n",
    "\n",
    "# add to merged\n",
    "merged_df = merged_df.merge(df_intersections, on=\"zone_id\", how=\"left\")\n",
    "\n",
    "# replace empty lists with NaN\n",
    "merged_df[\"zone_ids_of_intersecting_mt_ports\"] = (merged_df[\"zone_ids_of_intersecting_mt_ports\"].apply(lambda v: np.nan if isinstance(v, list) and len(v) == 0 else v))"
   ]
  },
  {
   "cell_type": "code",
   "execution_count": 12,
   "id": "3dc50e2e-bb76-4475-af74-016c8e85a8bd",
   "metadata": {},
   "outputs": [],
   "source": [
    "# add list of intersecting mt ports not matched with any zone_id, enable_calls=0 excluded\n",
    "\n",
    "cond1 = area_intersections['matched_zone_id'].isna()\n",
    "cond2 = area_intersections['mt_enable_calls']==True\n",
    "filtered_intersections = area_intersections[cond1&cond2]\n",
    "\n",
    "# aggregate mt_port_id per zone_id into unique, sorted lists\n",
    "df_intersections = (\n",
    "    filtered_intersections.groupby(\"zone_id\", as_index=False)\n",
    "        .agg(port_ids_of_intersecting_mt_not_matched=(\"mt_port_id\", lambda s: sorted({int(x) for x in s.dropna()})))  # unique ints\n",
    ")\n",
    "\n",
    "merged_df = merged_df.merge(df_intersections, on=\"zone_id\", how=\"left\")"
   ]
  },
  {
   "cell_type": "code",
   "execution_count": 13,
   "id": "ea16bcea-52e1-4a4d-a1b6-2b9307344311",
   "metadata": {},
   "outputs": [],
   "source": [
    "# Other calculated fields\n",
    "merged_df['berth_diff'] = merged_df['pg_berth_count'] - merged_df['mt_berth_count'].fillna(0)\n",
    "merged_df['terminal_diff'] = merged_df['pg_terminal_count'] - merged_df['mt_terminal_count'].fillna(0)\n",
    "merged_df['berth_with_terminal_diff'] = merged_df['pg_berths_with_terminal_count'] - merged_df['mt_berths_with_terminal_count'].fillna(0)\n",
    "merged_df['berth_stop_ratio'] = merged_df['pg_stopped_unique_vessels_berths']/merged_df['pg_stopped_unique_vessels_port']"
   ]
  },
  {
   "cell_type": "code",
   "execution_count": 14,
   "id": "5725432a-eb9b-4a5c-8d85-d8d5eba33e8e",
   "metadata": {},
   "outputs": [
    {
     "name": "stdout",
     "output_type": "stream",
     "text": [
      "<class 'pandas.core.frame.DataFrame'>\n",
      "RangeIndex: 26334 entries, 0 to 26333\n",
      "Data columns (total 27 columns):\n",
      " #   Column                                   Non-Null Count  Dtype  \n",
      "---  ------                                   --------------  -----  \n",
      " 0   zone_id                                  26334 non-null  Int64  \n",
      " 1   matched_mt_port_id                       19986 non-null  Int64  \n",
      " 2   pg_name                                  26334 non-null  object \n",
      " 3   pg_zone_type                             26334 non-null  object \n",
      " 4   parent_zone_id                           3015 non-null   float64\n",
      " 5   pg_country_code                          26080 non-null  object \n",
      " 6   pg_related_zone_anch_id                  2738 non-null   float64\n",
      " 7   pg_related_zone_port_id                  2928 non-null   float64\n",
      " 8   pg_berth_count                           26334 non-null  int64  \n",
      " 9   berth_diff                               26334 non-null  float64\n",
      " 10  pg_berths_with_terminal_count            26334 non-null  int64  \n",
      " 11  berth_with_terminal_diff                 26334 non-null  float64\n",
      " 12  pg_stopped_unique_vessels_port           26334 non-null  int64  \n",
      " 13  berth_stop_ratio                         7327 non-null   float64\n",
      " 14  mt_port_type                             19986 non-null  object \n",
      " 15  mt_enable_calls                          19986 non-null  object \n",
      " 16  mt_berths_not_matched                    19986 non-null  float64\n",
      " 17  zone_ids_of_intersecting_mt_ports        903 non-null    object \n",
      " 18  port_ids_of_intersecting_mt_not_matched  99 non-null     object \n",
      " 19  dbprim03_port_id                         215 non-null    Int64  \n",
      " 20  dbprim03_link                            215 non-null    object \n",
      " 21  dbprim03_date                            215 non-null    object \n",
      " 22  dbprim03_statement                       215 non-null    object \n",
      " 23  prod_port_id                             1 non-null      Int64  \n",
      " 24  prod_link                                1 non-null      object \n",
      " 25  prod_date                                1 non-null      object \n",
      " 26  prod_statement                           1 non-null      object \n",
      "dtypes: Int64(4), float64(7), int64(3), object(13)\n",
      "memory usage: 5.5+ MB\n"
     ]
    }
   ],
   "source": [
    "# cols to keep\n",
    "cols = ['zone_id', 'matched_mt_port_id', 'pg_name', 'pg_zone_type', 'parent_zone_id', 'pg_country_code',\n",
    "       'pg_related_zone_anch_id', 'pg_related_zone_port_id',\n",
    "       'pg_berth_count', 'berth_diff', 'pg_berths_with_terminal_count', 'berth_with_terminal_diff',\n",
    "       'pg_stopped_unique_vessels_port', 'berth_stop_ratio',\n",
    "       'mt_port_type', 'mt_enable_calls', 'mt_berths_not_matched',\n",
    "       'zone_ids_of_intersecting_mt_ports', 'port_ids_of_intersecting_mt_not_matched',\n",
    "       'dbprim03_port_id', 'dbprim03_link', 'dbprim03_date', 'dbprim03_statement',\n",
    "       'prod_port_id', 'prod_link', 'prod_date', 'prod_statement']\n",
    "\n",
    "merged_df[cols].info()"
   ]
  },
  {
   "cell_type": "code",
   "execution_count": 15,
   "id": "c7040032-f99f-4a51-a811-75673d727747",
   "metadata": {},
   "outputs": [],
   "source": [
    "merged_df[cols].to_excel('port_list.xlsx', index=False)"
   ]
  },
  {
   "cell_type": "markdown",
   "id": "a9124935-f974-4378-9873-e9c9a480b841",
   "metadata": {},
   "source": [
    "# Filters"
   ]
  },
  {
   "cell_type": "code",
   "execution_count": 16,
   "id": "3bfda3b3-51bc-459f-a93a-455c02ca75d6",
   "metadata": {},
   "outputs": [
    {
     "name": "stdout",
     "output_type": "stream",
     "text": [
      "<class 'geopandas.geodataframe.GeoDataFrame'>\n",
      "Index: 53 entries, 135 to 23887\n",
      "Data columns (total 37 columns):\n",
      " #   Column                                   Non-Null Count  Dtype   \n",
      "---  ------                                   --------------  -----   \n",
      " 0   zone_id                                  53 non-null     Int64   \n",
      " 1   matched_mt_port_id                       53 non-null     Int64   \n",
      " 2   pg_name                                  53 non-null     object  \n",
      " 3   pg_zone_type                             53 non-null     object  \n",
      " 4   parent_zone_id                           0 non-null      float64 \n",
      " 5   pg_country_code                          53 non-null     object  \n",
      " 6   pg_related_zone_anch_id                  23 non-null     float64 \n",
      " 7   pg_related_zone_port_id                  1 non-null      float64 \n",
      " 8   pg_terminal_count                        53 non-null     int64   \n",
      " 9   pg_berth_count                           53 non-null     int64   \n",
      " 10  pg_berths_with_terminal_count            53 non-null     int64   \n",
      " 11  pg_stopped_unique_vessels_port           53 non-null     int64   \n",
      " 12  pg_stopped_unique_vessels_berths         53 non-null     int64   \n",
      " 13  geometry_x                               53 non-null     geometry\n",
      " 14  mt_port_name                             53 non-null     object  \n",
      " 15  mt_port_type                             53 non-null     object  \n",
      " 16  mt_enable_calls                          53 non-null     object  \n",
      " 17  mt_terminal_count                        53 non-null     float64 \n",
      " 18  mt_berth_count                           53 non-null     float64 \n",
      " 19  mt_berths_with_terminal_count            53 non-null     float64 \n",
      " 20  mt_berths_not_matched                    53 non-null     float64 \n",
      " 21  geometry_y                               53 non-null     geometry\n",
      " 22  matched_zone_id                          53 non-null     Int64   \n",
      " 23  dbprim03_port_id                         2 non-null      Int64   \n",
      " 24  dbprim03_link                            2 non-null      object  \n",
      " 25  dbprim03_date                            2 non-null      object  \n",
      " 26  dbprim03_statement                       2 non-null      object  \n",
      " 27  prod_port_id                             0 non-null      Int64   \n",
      " 28  prod_link                                0 non-null      object  \n",
      " 29  prod_date                                0 non-null      object  \n",
      " 30  prod_statement                           0 non-null      object  \n",
      " 31  zone_ids_of_intersecting_mt_ports        9 non-null      object  \n",
      " 32  port_ids_of_intersecting_mt_not_matched  53 non-null     object  \n",
      " 33  berth_diff                               53 non-null     float64 \n",
      " 34  terminal_diff                            53 non-null     float64 \n",
      " 35  berth_with_terminal_diff                 53 non-null     float64 \n",
      " 36  berth_stop_ratio                         32 non-null     float64 \n",
      "dtypes: Int64(5), float64(11), geometry(2), int64(5), object(14)\n",
      "memory usage: 16.0+ KB\n"
     ]
    }
   ],
   "source": [
    "cond1 = merged_df['parent_zone_id'].isna()\n",
    "cond2 = merged_df['port_ids_of_intersecting_mt_not_matched'].notna()\n",
    "cond3 = merged_df['mt_enable_calls']==True\n",
    "\n",
    "merged_df[cond1&cond2&cond3].info()"
   ]
  },
  {
   "cell_type": "code",
   "execution_count": 17,
   "id": "df8bcd08-b41f-4034-8d7b-89a3bc355a20",
   "metadata": {},
   "outputs": [
    {
     "data": {
      "text/html": [
       "<div>\n",
       "<style scoped>\n",
       "    .dataframe tbody tr th:only-of-type {\n",
       "        vertical-align: middle;\n",
       "    }\n",
       "\n",
       "    .dataframe tbody tr th {\n",
       "        vertical-align: top;\n",
       "    }\n",
       "\n",
       "    .dataframe thead th {\n",
       "        text-align: right;\n",
       "    }\n",
       "</style>\n",
       "<table border=\"1\" class=\"dataframe\">\n",
       "  <thead>\n",
       "    <tr style=\"text-align: right;\">\n",
       "      <th></th>\n",
       "      <th>zone_id</th>\n",
       "      <th>matched_mt_port_id</th>\n",
       "      <th>pg_name</th>\n",
       "      <th>pg_zone_type</th>\n",
       "      <th>parent_zone_id</th>\n",
       "      <th>pg_country_code</th>\n",
       "      <th>pg_related_zone_anch_id</th>\n",
       "      <th>pg_related_zone_port_id</th>\n",
       "      <th>pg_terminal_count</th>\n",
       "      <th>pg_berth_count</th>\n",
       "      <th>...</th>\n",
       "      <th>prod_port_id</th>\n",
       "      <th>prod_link</th>\n",
       "      <th>prod_date</th>\n",
       "      <th>prod_statement</th>\n",
       "      <th>zone_ids_of_intersecting_mt_ports</th>\n",
       "      <th>port_ids_of_intersecting_mt_not_matched</th>\n",
       "      <th>berth_diff</th>\n",
       "      <th>terminal_diff</th>\n",
       "      <th>berth_with_terminal_diff</th>\n",
       "      <th>berth_stop_ratio</th>\n",
       "    </tr>\n",
       "  </thead>\n",
       "  <tbody>\n",
       "  </tbody>\n",
       "</table>\n",
       "<p>0 rows × 37 columns</p>\n",
       "</div>"
      ],
      "text/plain": [
       "Empty GeoDataFrame\n",
       "Columns: [zone_id, matched_mt_port_id, pg_name, pg_zone_type, parent_zone_id, pg_country_code, pg_related_zone_anch_id, pg_related_zone_port_id, pg_terminal_count, pg_berth_count, pg_berths_with_terminal_count, pg_stopped_unique_vessels_port, pg_stopped_unique_vessels_berths, geometry_x, mt_port_name, mt_port_type, mt_enable_calls, mt_terminal_count, mt_berth_count, mt_berths_with_terminal_count, mt_berths_not_matched, geometry_y, matched_zone_id, dbprim03_port_id, dbprim03_link, dbprim03_date, dbprim03_statement, prod_port_id, prod_link, prod_date, prod_statement, zone_ids_of_intersecting_mt_ports, port_ids_of_intersecting_mt_not_matched, berth_diff, terminal_diff, berth_with_terminal_diff, berth_stop_ratio]\n",
       "Index: []\n",
       "\n",
       "[0 rows x 37 columns]"
      ]
     },
     "execution_count": 17,
     "metadata": {},
     "output_type": "execute_result"
    }
   ],
   "source": [
    "cond1 = merged_df['zone_ids_of_intersecting_mt_ports'].notna()\n",
    "cond1 = merged_df['zone_ids_of_intersecting_mt_ports'] \\\n",
    "    .apply(lambda v: len(v) if isinstance(v, list) else -1) == 0\n",
    "\n",
    "merged_df[cond1]"
   ]
  },
  {
   "cell_type": "code",
   "execution_count": 18,
   "id": "656b881b-fecc-47c9-a8d3-3c7b07f52d1b",
   "metadata": {},
   "outputs": [
    {
     "data": {
      "text/html": [
       "<div>\n",
       "<style scoped>\n",
       "    .dataframe tbody tr th:only-of-type {\n",
       "        vertical-align: middle;\n",
       "    }\n",
       "\n",
       "    .dataframe tbody tr th {\n",
       "        vertical-align: top;\n",
       "    }\n",
       "\n",
       "    .dataframe thead th {\n",
       "        text-align: right;\n",
       "    }\n",
       "</style>\n",
       "<table border=\"1\" class=\"dataframe\">\n",
       "  <thead>\n",
       "    <tr style=\"text-align: right;\">\n",
       "      <th></th>\n",
       "      <th>zone_id</th>\n",
       "      <th>matched_mt_port_id</th>\n",
       "      <th>pg_name</th>\n",
       "      <th>pg_zone_type</th>\n",
       "      <th>parent_zone_id</th>\n",
       "      <th>pg_country_code</th>\n",
       "      <th>pg_related_zone_anch_id</th>\n",
       "      <th>pg_related_zone_port_id</th>\n",
       "      <th>pg_terminal_count</th>\n",
       "      <th>pg_berth_count</th>\n",
       "      <th>...</th>\n",
       "      <th>prod_port_id</th>\n",
       "      <th>prod_link</th>\n",
       "      <th>prod_date</th>\n",
       "      <th>prod_statement</th>\n",
       "      <th>zone_ids_of_intersecting_mt_ports</th>\n",
       "      <th>port_ids_of_intersecting_mt_not_matched</th>\n",
       "      <th>berth_diff</th>\n",
       "      <th>terminal_diff</th>\n",
       "      <th>berth_with_terminal_diff</th>\n",
       "      <th>berth_stop_ratio</th>\n",
       "    </tr>\n",
       "  </thead>\n",
       "  <tbody>\n",
       "  </tbody>\n",
       "</table>\n",
       "<p>0 rows × 37 columns</p>\n",
       "</div>"
      ],
      "text/plain": [
       "Empty GeoDataFrame\n",
       "Columns: [zone_id, matched_mt_port_id, pg_name, pg_zone_type, parent_zone_id, pg_country_code, pg_related_zone_anch_id, pg_related_zone_port_id, pg_terminal_count, pg_berth_count, pg_berths_with_terminal_count, pg_stopped_unique_vessels_port, pg_stopped_unique_vessels_berths, geometry_x, mt_port_name, mt_port_type, mt_enable_calls, mt_terminal_count, mt_berth_count, mt_berths_with_terminal_count, mt_berths_not_matched, geometry_y, matched_zone_id, dbprim03_port_id, dbprim03_link, dbprim03_date, dbprim03_statement, prod_port_id, prod_link, prod_date, prod_statement, zone_ids_of_intersecting_mt_ports, port_ids_of_intersecting_mt_not_matched, berth_diff, terminal_diff, berth_with_terminal_diff, berth_stop_ratio]\n",
       "Index: []\n",
       "\n",
       "[0 rows x 37 columns]"
      ]
     },
     "execution_count": 18,
     "metadata": {},
     "output_type": "execute_result"
    }
   ],
   "source": [
    "merged_df[cond1&cond2&cond3]"
   ]
  },
  {
   "cell_type": "code",
   "execution_count": null,
   "id": "89c8481d-3f0f-4e17-b2f3-55123127785a",
   "metadata": {},
   "outputs": [],
   "source": []
  },
  {
   "cell_type": "code",
   "execution_count": null,
   "id": "9c6c97d8-0704-4d96-b48d-319ccdabdf27",
   "metadata": {},
   "outputs": [],
   "source": []
  },
  {
   "cell_type": "code",
   "execution_count": null,
   "id": "20098deb-7a16-4740-8a15-c801e4f4b024",
   "metadata": {},
   "outputs": [],
   "source": []
  },
  {
   "cell_type": "code",
   "execution_count": null,
   "id": "21fb3d36-3b54-4c2a-b9ee-06ab32f2f6fb",
   "metadata": {},
   "outputs": [],
   "source": []
  }
 ],
 "metadata": {
  "kernelspec": {
   "display_name": "Python 3 (ipykernel)",
   "language": "python",
   "name": "python3"
  },
  "language_info": {
   "codemirror_mode": {
    "name": "ipython",
    "version": 3
   },
   "file_extension": ".py",
   "mimetype": "text/x-python",
   "name": "python",
   "nbconvert_exporter": "python",
   "pygments_lexer": "ipython3",
   "version": "3.9.23"
  }
 },
 "nbformat": 4,
 "nbformat_minor": 5
}
